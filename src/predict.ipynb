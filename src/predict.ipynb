{
 "cells": [
  {
   "cell_type": "code",
   "execution_count": null,
   "metadata": {},
   "outputs": [],
   "source": [
    "from transformers import AutoTokenizer, AutoModelForSequenceClassification\n",
    "\n",
    "# model/ フォルダからロード\n",
    "tokenizer = AutoTokenizer.from_pretrained(\"model\")\n",
    "model = AutoModelForSequenceClassification.from_pretrained(\"model\")"
   ]
  },
  {
   "cell_type": "code",
   "execution_count": null,
   "metadata": {},
   "outputs": [],
   "source": [
    "# 推論用テキストをトークナイズ\n",
    "import torch\n",
    "\n",
    "text = \"This movie had great direction and acting.\"\n",
    "\n",
    "# トークナイズ\n",
    "inputs = tokenizer(text, return_tensors=\"pt\", padding=True, truncation=True)\n",
    "\n",
    "# 推論モードへ（勾配不要）\n",
    "model.eval()\n",
    "with torch.no_grad():\n",
    "    outputs = model(**inputs)\n",
    "    logits = outputs.logits\n",
    "    predicted_id = logits.argmax(dim=-1).item()"
   ]
  },
  {
   "cell_type": "code",
   "execution_count": null,
   "metadata": {},
   "outputs": [],
   "source": [
    "# モデル保存時にconfigに含めていれば読み出せる\n",
    "label_name = model.config.id2label[predicted_id]\n",
    "print(\"Predicted label:\", label_name)"
   ]
  },
  {
   "cell_type": "code",
   "execution_count": null,
   "metadata": {},
   "outputs": [],
   "source": [
    "from transformers import AutoTokenizer, AutoModelForSequenceClassification\n",
    "import torch\n",
    "\n",
    "# モデルとトークナイザーの再ロード\n",
    "tokenizer = AutoTokenizer.from_pretrained(\"model\")\n",
    "model = AutoModelForSequenceClassification.from_pretrained(\"model\")\n",
    "model.eval()\n",
    "\n",
    "# 複数テキスト\n",
    "texts = [\n",
    "    \"The movie was fantastic and well-acted.\",\n",
    "    \"This lipstick is a great shade of red.\",\n",
    "    \"Electric cars are the future of transportation.\"\n",
    "]\n",
    "\n",
    "# トークナイズ（バッチ対応）\n",
    "inputs = tokenizer(texts, return_tensors=\"pt\", padding=True, truncation=True)\n",
    "\n",
    "# 推論\n",
    "with torch.no_grad():\n",
    "    outputs = model(**inputs)\n",
    "    logits = outputs.logits\n",
    "    predicted_ids = torch.argmax(logits, dim=1).tolist()\n",
    "\n",
    "# ラベル名に変換（configにid2labelがある場合）\n",
    "labels = [model.config.id2label[i] for i in predicted_ids]\n",
    "# 信頼度\n",
    "probs = torch.nn.functional.softmax(logits, dim=1)\n",
    "confidences = probs.max(dim=1).values.tolist()\n",
    "# 結果表示\n",
    "for text, label, conf in zip(texts, labels, confidences):\n",
    "    print(f\"Text: {text}\\n→ Predicted label: {label} (confidence: {conf:.2f})\\n\")"
   ]
  }
 ],
 "metadata": {
  "kernelspec": {
   "display_name": "venv",
   "language": "python",
   "name": "python3"
  },
  "language_info": {
   "codemirror_mode": {
    "name": "ipython",
    "version": 3
   },
   "file_extension": ".py",
   "mimetype": "text/x-python",
   "name": "python",
   "nbconvert_exporter": "python",
   "pygments_lexer": "ipython3",
   "version": "3.9.13"
  }
 },
 "nbformat": 4,
 "nbformat_minor": 2
}
